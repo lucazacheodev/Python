{
 "cells": [
  {
   "cell_type": "code",
   "execution_count": 1,
   "metadata": {},
   "outputs": [],
   "source": [
    "import pandas as pd\n",
    "import matplotlib.pyplot as plt\n",
    "import seaborn as sns"
   ]
  },
  {
   "cell_type": "code",
   "execution_count": 2,
   "metadata": {},
   "outputs": [],
   "source": [
    "dir_path = str(\"./Dataset/\")\n",
    "fifa_file = str(\"fifa.csv\")\n",
    "fifa_file_2 = str(\"2_fifa_studenti_OK.xlsx\")\n",
    "ign_scores_file = str(\"ign_scores.csv\")\n",
    "flight_delays_file = str(\"flight_delays.csv\")\n",
    "iris_file = str(\"iris.csv\")"
   ]
  },
  {
   "cell_type": "code",
   "execution_count": null,
   "metadata": {},
   "outputs": [],
   "source": [
    "fifa_df = pd.read_csv(dir_path + fifa_file, index_col='Date',parse_dates=['Date'])\n",
    "# fifa_df = fifa_df[['Date','ARG','ITA']]\n",
    "print(fifa_df)"
   ]
  },
  {
   "cell_type": "code",
   "execution_count": 4,
   "metadata": {},
   "outputs": [],
   "source": [
    "# fifa_df_2 = pd.read_excel(dir_path + fifa_file_2)\n",
    "# print(fifa_df_2)"
   ]
  },
  {
   "cell_type": "code",
   "execution_count": null,
   "metadata": {},
   "outputs": [],
   "source": [
    "sns.lineplot(data=fifa_df)"
   ]
  },
  {
   "cell_type": "code",
   "execution_count": null,
   "metadata": {},
   "outputs": [],
   "source": [
    "df_grouped = fifa_df.groupby(fifa_df.index.year).mean()\n",
    "print(df_grouped)"
   ]
  },
  {
   "cell_type": "code",
   "execution_count": null,
   "metadata": {},
   "outputs": [],
   "source": [
    "sns.lineplot(data=df_grouped)"
   ]
  },
  {
   "cell_type": "code",
   "execution_count": null,
   "metadata": {},
   "outputs": [],
   "source": [
    "sns.lineplot(data=df_grouped).invert_yaxis()"
   ]
  },
  {
   "cell_type": "code",
   "execution_count": null,
   "metadata": {},
   "outputs": [],
   "source": [
    "ign_scores_df = pd.read_csv(dir_path+ign_scores_file, index_col='Platform')\n",
    "print(ign_scores_df)"
   ]
  },
  {
   "cell_type": "code",
   "execution_count": null,
   "metadata": {},
   "outputs": [],
   "source": [
    "sns.lineplot(ign_scores_df)"
   ]
  },
  {
   "cell_type": "code",
   "execution_count": null,
   "metadata": {},
   "outputs": [],
   "source": [
    "sns.heatmap(data=ign_scores_df, annot=True, linewidths=2, linecolor='white', cmap=sns.cm.rocket_r)"
   ]
  },
  {
   "cell_type": "code",
   "execution_count": null,
   "metadata": {},
   "outputs": [],
   "source": [
    "flight_delays_df = pd.read_csv(dir_path+flight_delays_file, index_col='Month')\n",
    "sns.heatmap(data=flight_delays_df,annot=True,linewidths=2,linecolor='white', cmap=sns.cm.rocket_r)"
   ]
  },
  {
   "cell_type": "code",
   "execution_count": null,
   "metadata": {},
   "outputs": [],
   "source": [
    "iris_df = pd.read_csv(dir_path + iris_file)\n",
    "# print(iris_df)\n",
    "iris_df=iris_df[['Sepal Length (cm)',  'Sepal Width (cm)',  'Petal Length (cm)', 'Species']]\n",
    "# print(iris_df)\n",
    "sns.histplot(data=iris_df, x='Petal Length (cm)', hue='Species')"
   ]
  }
 ],
 "metadata": {
  "kernelspec": {
   "display_name": "Python 3",
   "language": "python",
   "name": "python3"
  },
  "language_info": {
   "codemirror_mode": {
    "name": "ipython",
    "version": 3
   },
   "file_extension": ".py",
   "mimetype": "text/x-python",
   "name": "python",
   "nbconvert_exporter": "python",
   "pygments_lexer": "ipython3",
   "version": "3.12.4"
  }
 },
 "nbformat": 4,
 "nbformat_minor": 2
}
