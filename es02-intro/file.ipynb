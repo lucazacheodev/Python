{
 "cells": [
  {
   "cell_type": "code",
   "execution_count": null,
   "metadata": {},
   "outputs": [],
   "source": [
    "import os\n",
    "dove_sono = os.getcwd()\n",
    "print(dove_sono)"
   ]
  },
  {
   "cell_type": "code",
   "execution_count": null,
   "metadata": {},
   "outputs": [],
   "source": [
    "# Variables declaration\n",
    "numero = 3\n",
    "numero_stringa = '3'\n",
    "nome='Gabriele'\n",
    "\n",
    "# print formatted string\n",
    "print(\"Il numero è \" + numero_stringa)\n",
    "print(f\"Il numero è {numero_stringa}\")\n",
    "print(\"Ciao \" + nome)\n",
    "print (f\"Il numero è {numero}\")"
   ]
  },
  {
   "cell_type": "code",
   "execution_count": null,
   "metadata": {},
   "outputs": [],
   "source": [
    "# Numbers and type cast\n",
    "e = 3.2\n",
    "print(type(e), e)\n",
    "e_int = int(e)\n",
    "print(type(e_int), e_int )"
   ]
  },
  {
   "cell_type": "code",
   "execution_count": null,
   "metadata": {},
   "outputs": [],
   "source": [
    "# Array and loops examples\n",
    "lista = [1, 4, 7, 8]\n",
    "\n",
    "for i in lista:\n",
    "    if i != 8: \n",
    "        print(i)\n",
    "print(\"-------------------------------\")\n",
    "for i in lista:\n",
    "    if i == 8: \n",
    "        print(i)\n",
    "print(\"-------------------------------\")\n",
    "for i in lista:\n",
    "    if i == 7:\n",
    "        break\n",
    "    else:\n",
    "        print(i)\n",
    "print(\"-------------------------------\")\n",
    "for i in lista:\n",
    "    if i == 7:\n",
    "        continue\n",
    "    else:\n",
    "        print(i)\n",
    "print(\"-------------------------------\")\n",
    "for i in lista:\n",
    "    if i == 1:\n",
    "        pass\n",
    "        print(f\"Primo if col pass: {i}\")\n",
    "    elif i > 1 and i < 8:\n",
    "        print(f\"i>1 && i<8: {i}\")\n",
    "    else:        \n",
    "        print(f\"i>=8: {i * 2}\")\n",
    "print(\"-------------------------------\")\n",
    "print(f\"Secondo elemento della lista: {lista[1]}\")"
   ]
  },
  {
   "cell_type": "code",
   "execution_count": null,
   "metadata": {},
   "outputs": [],
   "source": [
    "# Fixing range usage\n",
    "numeri = range(8)\n",
    "print(list(numeri))\n",
    "print(\"-------------------------------\")\n",
    "for i in numeri:\n",
    "    print(i)\n",
    "print(\"-------------------------------\")"
   ]
  },
  {
   "cell_type": "code",
   "execution_count": null,
   "metadata": {},
   "outputs": [],
   "source": [
    "numeri = range(2,30,3)\n",
    "length = len(numeri)\n",
    "print(length)\n",
    "\n",
    "for indice in reversed(range(0,length)):\n",
    "    print(f\"L'indice dell'iterazione è {indice} \")"
   ]
  },
  {
   "cell_type": "code",
   "execution_count": 37,
   "metadata": {},
   "outputs": [
    {
     "name": "stdout",
     "output_type": "stream",
     "text": [
      "10.50384\n"
     ]
    }
   ],
   "source": [
    "import random as rnd \n",
    "\n",
    "def diceThrow(throws, faces):\n",
    "    total = 0\n",
    "    i = 1\n",
    "    while i<=throws:\n",
    "        result= rnd.randint(1,faces)\n",
    "        # print(f\"Iterazione:{i} Esito:{result}\")\n",
    "        total+=result\n",
    "        i+=1\n",
    "    return total/throws    \n",
    "        \n",
    "media = diceThrow(100000,20)\n",
    "print(media)\n",
    "    \n"
   ]
  }
 ],
 "metadata": {
  "kernelspec": {
   "display_name": "Python 3",
   "language": "python",
   "name": "python3"
  },
  "language_info": {
   "codemirror_mode": {
    "name": "ipython",
    "version": 3
   },
   "file_extension": ".py",
   "mimetype": "text/x-python",
   "name": "python",
   "nbconvert_exporter": "python",
   "pygments_lexer": "ipython3",
   "version": "3.12.4"
  }
 },
 "nbformat": 4,
 "nbformat_minor": 2
}
